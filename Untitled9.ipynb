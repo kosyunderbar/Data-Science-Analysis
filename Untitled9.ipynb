{
  "nbformat": 4,
  "nbformat_minor": 0,
  "metadata": {
    "colab": {
      "private_outputs": true,
      "provenance": [],
      "authorship_tag": "ABX9TyODXuzl2cqLHlAVOxGpgJAq",
      "include_colab_link": true
    },
    "kernelspec": {
      "name": "python3",
      "display_name": "Python 3"
    },
    "language_info": {
      "name": "python"
    }
  },
  "cells": [
    {
      "cell_type": "markdown",
      "metadata": {
        "id": "view-in-github",
        "colab_type": "text"
      },
      "source": [
        "<a href=\"https://colab.research.google.com/github/kosyunderbar/Data-Science-Analysis/blob/main/Untitled9.ipynb\" target=\"_parent\"><img src=\"https://colab.research.google.com/assets/colab-badge.svg\" alt=\"Open In Colab\"/></a>"
      ]
    },
    {
      "cell_type": "code",
      "execution_count": null,
      "metadata": {
        "id": "nHpZUkktKMBv"
      },
      "outputs": [],
      "source": [
        "import numpy as np\n",
        "a_np = np.array([[1, 2, 3], [4, 5, 6]])\n",
        "b_np = np.array([[1, 3, 5], [2, 4, 6]])\n",
        "\n",
        "r1 = np.any(a_np > 3) \n",
        "r2 = np.all((a_np > 3)) \n",
        "r3 = a_np >= b_np\n",
        "r4 = a_np[a_np >= b_np]\n",
        "r5 = np.where(a_np > 2)\n",
        "r6 = np.where(a_np > 2, a_np, 0)\n",
        "r7 = np.where(a_np > 2, a_np*2, 1)\n",
        "r8 = np.argmax(a_np)\n",
        "r9 = np.argmax(a_np, axis=1)\n",
        "r10 = np.argmax(a_np, axis=0)"
      ]
    },
    {
      "cell_type": "code",
      "source": [
        "r1"
      ],
      "metadata": {
        "id": "yxQu81kYMzi9"
      },
      "execution_count": null,
      "outputs": []
    },
    {
      "cell_type": "code",
      "source": [
        "r2"
      ],
      "metadata": {
        "id": "IY5mo-tJM0tg"
      },
      "execution_count": null,
      "outputs": []
    },
    {
      "cell_type": "code",
      "source": [
        "r3"
      ],
      "metadata": {
        "id": "eTriq_eJNYfM"
      },
      "execution_count": null,
      "outputs": []
    },
    {
      "cell_type": "code",
      "source": [
        "r4"
      ],
      "metadata": {
        "id": "kNnT7BPaNZPo"
      },
      "execution_count": null,
      "outputs": []
    },
    {
      "cell_type": "code",
      "source": [
        "r5"
      ],
      "metadata": {
        "id": "kgXqXIoJNZ3_"
      },
      "execution_count": null,
      "outputs": []
    },
    {
      "cell_type": "code",
      "source": [
        "r6"
      ],
      "metadata": {
        "id": "4Ej6Q8IENagr"
      },
      "execution_count": null,
      "outputs": []
    },
    {
      "cell_type": "code",
      "source": [
        "r7"
      ],
      "metadata": {
        "id": "D4IPG93XNbDR"
      },
      "execution_count": null,
      "outputs": []
    },
    {
      "cell_type": "code",
      "source": [
        "r8"
      ],
      "metadata": {
        "id": "joX9LmWxNbns"
      },
      "execution_count": null,
      "outputs": []
    },
    {
      "cell_type": "code",
      "source": [
        "r9"
      ],
      "metadata": {
        "id": "sgbP0vkzNcGi"
      },
      "execution_count": null,
      "outputs": []
    },
    {
      "cell_type": "code",
      "source": [
        "r10"
      ],
      "metadata": {
        "id": "uAdBrB4bNdE7"
      },
      "execution_count": null,
      "outputs": []
    },
    {
      "cell_type": "code",
      "source": [],
      "metadata": {
        "id": "rCYNMDb7Ne3E"
      },
      "execution_count": null,
      "outputs": []
    }
  ]
}