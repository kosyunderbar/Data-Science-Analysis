{
  "nbformat": 4,
  "nbformat_minor": 0,
  "metadata": {
    "colab": {
      "private_outputs": true,
      "provenance": [],
      "authorship_tag": "ABX9TyMG6djbM1Jg7V13ud6jNtOd",
      "include_colab_link": true
    },
    "kernelspec": {
      "name": "python3",
      "display_name": "Python 3"
    },
    "language_info": {
      "name": "python"
    }
  },
  "cells": [
    {
      "cell_type": "markdown",
      "metadata": {
        "id": "view-in-github",
        "colab_type": "text"
      },
      "source": [
        "<a href=\"https://colab.research.google.com/github/kosyunderbar/kosy_underbar/blob/main/Week06.ipynb\" target=\"_parent\"><img src=\"https://colab.research.google.com/assets/colab-badge.svg\" alt=\"Open In Colab\"/></a>"
      ]
    },
    {
      "cell_type": "code",
      "execution_count": null,
      "metadata": {
        "id": "IpE3CCL6EXmw"
      },
      "outputs": [],
      "source": [
        "!sudo apt-get install -y fonts-nanum\n",
        "!sudo fc-cache -fv\n",
        "!rm ~/.cache/matplotlib -rf"
      ]
    },
    {
      "cell_type": "code",
      "source": [
        "import matplotlib as mpl\n",
        "import matplotlib.pyplot as plt\n",
        "import numpy as np\n",
        "\n",
        "%matplotlib inline"
      ],
      "metadata": {
        "id": "yQwQNivOEiRd"
      },
      "execution_count": null,
      "outputs": []
    },
    {
      "cell_type": "code",
      "source": [
        "plt.rc('font', family='NanumBarunGothic')\n",
        "plt.rc('axes', unicode_minus = False)"
      ],
      "metadata": {
        "id": "zgsMr6bJEoHu"
      },
      "execution_count": null,
      "outputs": []
    },
    {
      "cell_type": "code",
      "source": [
        "x = ['1월', '2월', '3월', '4월', '5월']\n",
        "y = [7, 10, 17, 20, 23]\n",
        "\n",
        "plt.plot(x,y)\n",
        "plt.show()"
      ],
      "metadata": {
        "id": "mp5h4uHcEq5t"
      },
      "execution_count": null,
      "outputs": []
    },
    {
      "cell_type": "code",
      "source": [
        "x = ['1월', '2월', '3월', '4월', '5월']\n",
        "y = [7, 10, 17, 20, 23]\n",
        "\n",
        "plt.plot(x,y, color=\"blue\", marker = 'o', linestyle = ':')\n",
        "plt.title('월별 평균 온도', fontsize=15)\n",
        "plt.ylabel('온도(도)')\n",
        "plt.grid(linestyle = ':')\n",
        "plt.show()"
      ],
      "metadata": {
        "id": "zBC6IkjWEtPO"
      },
      "execution_count": null,
      "outputs": []
    },
    {
      "cell_type": "code",
      "source": [
        "aVal = np.random.standard_normal(40)\n",
        "aVal"
      ],
      "metadata": {
        "id": "ia3ih2kjEv2z"
      },
      "execution_count": null,
      "outputs": []
    },
    {
      "cell_type": "code",
      "source": [
        "type(aVal)"
      ],
      "metadata": {
        "id": "ombgFjODExrp"
      },
      "execution_count": null,
      "outputs": []
    },
    {
      "cell_type": "code",
      "source": [
        "index = range(len(aVal))\n",
        "plt.plot(index, aVal)\n",
        "\n",
        "plt.xlim(0, 20)\n",
        "plt.ylim(np.min(aVal) -1, np.max(aVal) + 1)\n",
        "plt.show()"
      ],
      "metadata": {
        "id": "5hX4mg_7Ey-Z"
      },
      "execution_count": null,
      "outputs": []
    },
    {
      "cell_type": "code",
      "source": [
        "type(index)"
      ],
      "metadata": {
        "id": "HDLsat_HE02z"
      },
      "execution_count": null,
      "outputs": []
    },
    {
      "cell_type": "code",
      "source": [
        "plt.figure(figsize=(7,4))\n",
        "plt.plot(aVal.cumsum(), 'b', lw= 1.5)\n",
        "plt.plot(aVal.cumsum(), 'ro')\n",
        "plt.xlabel('index')\n",
        "plt.ylabel('aVal')\n",
        "plt.title('Line Plot')\n",
        "plt.show()"
      ],
      "metadata": {
        "id": "bgume8ZcE16r"
      },
      "execution_count": null,
      "outputs": []
    },
    {
      "cell_type": "code",
      "source": [
        "value = np.random.standard_normal((30, 2))\n",
        "value"
      ],
      "metadata": {
        "id": "ODBjMVxiE3E-"
      },
      "execution_count": null,
      "outputs": []
    },
    {
      "cell_type": "code",
      "source": [
        "value[0]"
      ],
      "metadata": {
        "id": "AgMX8paiE4U6"
      },
      "execution_count": null,
      "outputs": []
    },
    {
      "cell_type": "code",
      "source": [
        "plt.figure(figsize=(10,4))\n",
        "plt.plot(value[:,0], lw= 1.5)\n",
        "plt.plot(value[:,1], lw= 1.5)\n",
        "plt.plot(value, 'ro')\n",
        "plt.grid(True)\n",
        "plt.xlabel('index')\n",
        "plt.ylabel('value')\n",
        "plt.title('Line Plot')"
      ],
      "metadata": {
        "id": "xAmO8aKME5R-"
      },
      "execution_count": null,
      "outputs": []
    },
    {
      "cell_type": "code",
      "source": [
        "plt.figure(figsize=(10,5))\n",
        "plt.subplot(211)\n",
        "plt.plot(value[:,0], lw = 1.5, label = '1st')\n",
        "plt.plot(value[:,0], 'ro')\n",
        "plt.grid(True)\n",
        "plt.legend(loc = 0)\n",
        "plt.ylabel(\"value\")\n",
        "plt.title('Line Plot 3')\n",
        "plt.subplot(212)\n",
        "plt.plot(value[:,1], 'g', lw = 1.5, label = '2nd')\n",
        "plt.grid(True)\n",
        "plt.legend(loc=0)\n",
        "plt.axis('tight')\n",
        "plt.ylabel('value')"
      ],
      "metadata": {
        "id": "S_21mMWOE7CG"
      },
      "execution_count": null,
      "outputs": []
    },
    {
      "cell_type": "code",
      "source": [
        "plt.figure(figsize=(13,5))\n",
        "plt.subplot(231)\n",
        "plt.plot(value[:,0], lw= 1.5, label = '1st')\n",
        "plt.plot(value[:,0], 'co')\n",
        "plt.grid(True)\n",
        "plt.legend(loc=0)\n",
        "plt.ylabel('value')\n",
        "plt.title('Line Plot 3')\n",
        "plt.subplot(232)\n",
        "plt.plot(value[:,0], 'g-.', lw=1.5, label='1st')\n",
        "plt.grid(True)\n",
        "plt.legend(loc=0)\n",
        "plt.axis('tight')\n",
        "plt.ylabel('value')\n",
        "plt.subplot(233)\n",
        "plt.plot(value[:,0], 'g', lw=1.5, label='1st')\n",
        "plt.plot(value[:,0], 'bD')\n",
        "plt.grid(True)\n",
        "plt.legend(loc=0)\n",
        "plt.axis('tight')\n",
        "plt.ylabel('value')\n",
        "plt.subplot(234)\n",
        "plt.plot(value[:,1], '*', lw=1.5, label='2nd')\n",
        "plt.grid(True)\n",
        "plt.legend(loc=0)\n",
        "plt.axis('tight')\n",
        "plt.ylabel('value')\n",
        "plt.subplot(235)\n",
        "plt.plot(value[:,1], 'b', lw=1.5, label='2nd')\n",
        "plt.plot(value[:,1], 'ms')\n",
        "plt.grid(True)\n",
        "plt.legend(loc=0)\n",
        "plt.axis('tight')\n",
        "plt.ylabel('value')\n",
        "plt.subplot(236)\n",
        "plt.plot(value[:,1], 'r--', lw=1.5, label='2nd')\n",
        "plt.grid(True)\n",
        "plt.legend(loc=0)\n",
        "plt.axis('tight')\n",
        "plt.ylabel('value')"
      ],
      "metadata": {
        "id": "4uD90yw9E_Yq"
      },
      "execution_count": null,
      "outputs": []
    },
    {
      "cell_type": "code",
      "source": [
        "x = ['1월', '2월', '3월', '4월', '5월']\n",
        "y = [7, 10, 17, 20, 23]\n",
        "\n",
        "plt.bar(x,y)\n",
        "plt.show()"
      ],
      "metadata": {
        "id": "lPXJipTnFFJ3"
      },
      "execution_count": null,
      "outputs": []
    },
    {
      "cell_type": "code",
      "source": [
        "x = ['1월', '2월', '3월', '4월', '5월']\n",
        "y = [7, 10, 17, 20, 23]\n",
        "\n",
        "plt.barh(x,y)\n",
        "plt.show()"
      ],
      "metadata": {
        "id": "QAgX_XqDFHyK"
      },
      "execution_count": null,
      "outputs": []
    },
    {
      "cell_type": "code",
      "source": [
        "x = ['1월', '2월', '3월', '4월', '5월']\n",
        "y = [7, 10, 17, 20, 23]\n",
        "\n",
        "plt.bar(x,y, color=\"orange\", width = 0.5, edgecolor = 'black', hatch = '/')\n",
        "plt.title('월별 평균 온도', fontsize=15)\n",
        "plt.ylabel('온도(도)')\n",
        "plt.grid(linestyle = ':', axis = 'y')\n",
        "plt.show()"
      ],
      "metadata": {
        "id": "dOQhZ49CFLMv"
      },
      "execution_count": null,
      "outputs": []
    },
    {
      "cell_type": "code",
      "source": [
        "import pandas as pd\n",
        "\n",
        "df = pd.read_csv('scores.csv', encoding='cp949')\n",
        "df"
      ],
      "metadata": {
        "id": "x8gX8cM-FN8U"
      },
      "execution_count": null,
      "outputs": []
    },
    {
      "cell_type": "code",
      "source": [
        "x = df['이름']\n",
        "y_kor = df['국어']\n",
        "\n",
        "plt.bar(x, y_kor)\n",
        "plt.show()"
      ],
      "metadata": {
        "id": "YOB99SX0FPgr"
      },
      "execution_count": null,
      "outputs": []
    },
    {
      "cell_type": "code",
      "source": [
        "x = df['이름']\n",
        "y_kor = df['국어']\n",
        "y_eng = df['영어']\n",
        "\n",
        "plt.bar(x, y_kor, width = -0.4, align = 'edge', label = '국어')\n",
        "plt.bar(x, y_eng, width = 0.4, align = 'edge', label = '영어')\n",
        "plt.title('국어/영어 점수 비교', fontsize = 15)\n",
        "plt.ylabel('점수')\n",
        "\n",
        "plt.legend() \n",
        "plt.show()"
      ],
      "metadata": {
        "id": "9nQeGvuEFUvp"
      },
      "execution_count": null,
      "outputs": []
    },
    {
      "cell_type": "code",
      "source": [
        "value = np.random.standard_normal((500,2))\n",
        "plt.plot(value[:,0], value[:,1], 'ro')\n",
        "plt.grid(False)\n",
        "plt.xlabel('value 1')\n",
        "plt.ylabel('value 2')\n",
        "plt.title('Scatter Plot 1')"
      ],
      "metadata": {
        "id": "YD1PB3tKFW7x"
      },
      "execution_count": null,
      "outputs": []
    },
    {
      "cell_type": "code",
      "source": [
        "plt.figure(figsize=(7,5))\n",
        "plt.scatter(value[:,0], value[:,1], marker='o')\n",
        "plt.grid(True)\n",
        "plt.xlabel('value 1')\n",
        "plt.ylabel('value 2')\n",
        "plt.title('Scatter Plot 2')"
      ],
      "metadata": {
        "id": "uxEaBUa7FYNU"
      },
      "execution_count": null,
      "outputs": []
    },
    {
      "cell_type": "code",
      "source": [
        "color = np.random.randint(0,10,len(value))\n",
        "\n",
        "plt.figure(figsize=(10,5))\n",
        "plt.scatter(value[:,0], value[:,1], c=color, marker = 'o')\n",
        "plt.colorbar()\n",
        "plt.xlabel('value 1')\n",
        "plt.ylabel('value 2')\n",
        "plt.title('Scatter Plot 3')"
      ],
      "metadata": {
        "id": "rMSsF-_tFZdU"
      },
      "execution_count": null,
      "outputs": []
    },
    {
      "cell_type": "code",
      "source": [
        "import seaborn as sns\n",
        "df = sns.load_dataset('tips')\n",
        "df"
      ],
      "metadata": {
        "id": "Izj1c89RFaoG"
      },
      "execution_count": null,
      "outputs": []
    },
    {
      "cell_type": "code",
      "source": [
        "df.head()"
      ],
      "metadata": {
        "id": "X9spnKzNFbrZ"
      },
      "execution_count": null,
      "outputs": []
    },
    {
      "cell_type": "code",
      "source": [
        "df.describe()"
      ],
      "metadata": {
        "id": "zvnhYmRGFdGp"
      },
      "execution_count": null,
      "outputs": []
    },
    {
      "cell_type": "code",
      "source": [
        "df.info()"
      ],
      "metadata": {
        "id": "qGKhBe0DFeR9"
      },
      "execution_count": null,
      "outputs": []
    },
    {
      "cell_type": "code",
      "source": [
        "x = df['total_bill']\n",
        "y = df['tip']\n",
        "\n",
        "sns.scatterplot(x,y)"
      ],
      "metadata": {
        "id": "deMQwMvoFfSz"
      },
      "execution_count": null,
      "outputs": []
    },
    {
      "cell_type": "code",
      "source": [
        "sns.boxplot(x=\"day\", y = \"tip\", hue=\"sex\", data=df, palette=\"muted\")"
      ],
      "metadata": {
        "id": "l9AVlyJZFgXW"
      },
      "execution_count": null,
      "outputs": []
    },
    {
      "cell_type": "code",
      "source": [],
      "metadata": {
        "id": "XTNI7txSFha2"
      },
      "execution_count": null,
      "outputs": []
    }
  ]
}